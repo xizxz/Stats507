{
 "cells": [
  {
   "cell_type": "code",
   "execution_count": null,
   "metadata": {},
   "outputs": [],
   "source": [
    "dg = pd.read_sas(\"DEMO_G.XPT\")\n",
    "dg['cohort'] = '2011-2012'\n",
    "di = pd.read_sas(\"DEMO_I.XPT\")\n",
    "di['cohort'] = '2015-2016'\n",
    "dj = pd.read_sas(\"DEMO_J.XPT\")\n",
    "dj['cohort'] = '2017-2018'\n",
    "dh = pd.read_sas(\"DEMO_H.XPT\")\n",
    "dh['cohort'] = '2013-2014'\n",
    "\n",
    "data = pd.concat([dg,di,dj,dh],axis = 0)\n",
    "\n",
    "res_nutri = data[['SEQN','RIDAGEYR', 'RIDRETH3', 'DMDEDUC2', 'DMDMARTL', 'RIDSTATR', 'SDMVPSU', 'SDMVSTRA', 'WTMEC2YR', 'WTINT2YR','RIAGENDR', 'cohort']]\n",
    "\n",
    "\n",
    "res_nutri.columns= res_nutri.columns.str.lower()\n",
    "res_nutri = res_nutri.fillna(-1)\n",
    "res_nutri = res_nutri.apply(pd.to_numeric, errors = 'ignore')\n",
    "\n",
    "res_nutri.to_pickle('pic_nutri.pkl')\n"
   ]
  }
 ],
 "metadata": {
  "kernelspec": {
   "display_name": "Python 3",
   "language": "python",
   "name": "python3"
  },
  "language_info": {
   "codemirror_mode": {
    "name": "ipython",
    "version": 3
   },
   "file_extension": ".py",
   "mimetype": "text/x-python",
   "name": "python",
   "nbconvert_exporter": "python",
   "pygments_lexer": "ipython3",
   "version": "3.8.3"
  }
 },
 "nbformat": 4,
 "nbformat_minor": 4
}
