{
 "cells": [
  {
   "cell_type": "markdown",
   "metadata": {},
   "source": [
    "## (a)"
   ]
  },
  {
   "cell_type": "code",
   "execution_count": null,
   "metadata": {},
   "outputs": [],
   "source": [
    "import numpy as np\n",
    "import pandas as pd\n",
    "dg = pd.read_sas(\"DEMO_G.XPT\")\n",
    "dg['cohort'] = '2011-2012'\n",
    "di = pd.read_sas(\"DEMO_I.XPT\")\n",
    "di['cohort'] = '2015-2016'\n",
    "dj = pd.read_sas(\"DEMO_J.XPT\")\n",
    "dj['cohort'] = '2017-2018'\n",
    "dh = pd.read_sas(\"DEMO_H.XPT\")\n",
    "dh['cohort'] = '2013-2014'\n",
    "\n",
    "data = dg\n",
    "data.append(di)\n",
    "data.append(dj)\n",
    "data.append(dh)\n",
    "res_nutri = data[['SEQN','RIDAGEYR', 'RIDRETH3', 'DMDEDUC2', 'DMDMARTL', 'RIDSTATR', 'SDMVPSU', 'SDMVSTRA', 'WTMEC2YR', 'WTINT2YR', 'cohort']]\n",
    "\n",
    "\n",
    "res_nutri.columns= res_nutri.columns.str.lower()\n",
    "res_nutri = res_nutri.apply(pd.to_numeric, errors = 'ignore')\n",
    "\n",
    "res_nutri.to_pickle('pic_nutri.pkl')"
   ]
  },
  {
   "cell_type": "markdown",
   "metadata": {},
   "source": [
    "## (b)"
   ]
  },
  {
   "cell_type": "code",
   "execution_count": null,
   "metadata": {},
   "outputs": [],
   "source": [
    "import pandas as pd\n",
    "dh = pd.read_sas(\"OHXDEN_H.XPT\")\n",
    "dh['cohort'] = '2011-2012'\n",
    "di = pd.read_sas(\"OHXDEN_I.XPT\")\n",
    "di['cohort'] = '2015-2016'\n",
    "dj = pd.read_sas(\"OHXDEN_J.XPT\")\n",
    "dj['cohort'] = '2017-2018'\n",
    "dg = pd.read_sas(\"OHXDEN_G.XPT\")\n",
    "dg['cohort'] = '2013-2014'\n",
    "\n",
    "data = dh\n",
    "data.append(di)\n",
    "data.append(dj)\n",
    "data.append(dg)\n",
    "\n",
    "d = data[['SEQN','OHDDESTS', 'cohort']]\n",
    "OHXxxTC = data[[col for col in data if (col.startswith('OHX') and col.endswith('TC')) ]]\n",
    "OHXxxCTC = data[[col for col in data if (col.startswith('OHX') and col.endswith('CTC')) ]]\n",
    "res_oral = pd.concat([d, OHXxxTC, OHXxxCTC], axis = 1)\n",
    "\n",
    "res_oral.columns= res_oral.columns.str.lower()\n",
    "res_oral = res_oral.apply(pd.to_numeric, errors = 'ignore')\n",
    "res_oral.to_pickle('pic_oral.pkl')"
   ]
  },
  {
   "cell_type": "markdown",
   "metadata": {},
   "source": [
    "## (c)"
   ]
  },
  {
   "cell_type": "code",
   "execution_count": 1,
   "metadata": {},
   "outputs": [
    {
     "ename": "NameError",
     "evalue": "name 'res_nutri' is not defined",
     "output_type": "error",
     "traceback": [
      "\u001b[0;31m---------------------------------------------------------------------------\u001b[0m",
      "\u001b[0;31mNameError\u001b[0m                                 Traceback (most recent call last)",
      "\u001b[0;32m<ipython-input-1-0056de7219ad>\u001b[0m in \u001b[0;36m<module>\u001b[0;34m\u001b[0m\n\u001b[0;32m----> 1\u001b[0;31m \u001b[0mprint\u001b[0m\u001b[0;34m(\u001b[0m\u001b[0mres_nutri\u001b[0m\u001b[0;34m.\u001b[0m\u001b[0mshape\u001b[0m\u001b[0;34m[\u001b[0m\u001b[0;36m0\u001b[0m\u001b[0;34m]\u001b[0m\u001b[0;34m)\u001b[0m\u001b[0;34m\u001b[0m\u001b[0;34m\u001b[0m\u001b[0m\n\u001b[0m\u001b[1;32m      2\u001b[0m \u001b[0mprint\u001b[0m\u001b[0;34m(\u001b[0m\u001b[0mres_oral\u001b[0m\u001b[0;34m.\u001b[0m\u001b[0mshape\u001b[0m\u001b[0;34m[\u001b[0m\u001b[0;36m0\u001b[0m\u001b[0;34m]\u001b[0m\u001b[0;34m)\u001b[0m\u001b[0;34m\u001b[0m\u001b[0;34m\u001b[0m\u001b[0m\n",
      "\u001b[0;31mNameError\u001b[0m: name 'res_nutri' is not defined"
     ]
    }
   ],
   "source": [
    "print(res_nutri.shape[0])\n",
    "print(res_oral.shape[0])"
   ]
  }
 ],
 "metadata": {
  "kernelspec": {
   "display_name": "Python 3",
   "language": "python",
   "name": "python3"
  },
  "language_info": {
   "codemirror_mode": {
    "name": "ipython",
    "version": 3
   },
   "file_extension": ".py",
   "mimetype": "text/x-python",
   "name": "python",
   "nbconvert_exporter": "python",
   "pygments_lexer": "ipython3",
   "version": "3.8.3"
  }
 },
 "nbformat": 4,
 "nbformat_minor": 4
}
