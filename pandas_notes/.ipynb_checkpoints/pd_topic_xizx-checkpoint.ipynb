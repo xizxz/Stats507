{
 "cells": [
  {
   "cell_type": "markdown",
   "metadata": {},
   "source": [
    "Xi Zheng\n",
    "xizx@umich.edu"
   ]
  },
  {
   "cell_type": "markdown",
   "metadata": {},
   "source": [
    "## pandas.Series.ne\n",
    " * Return Not equal to of series and other, element-wise (binary operator ne).\n",
    " * `Series.ne(other, level=None, fill_value=None, axis=0)`\n",
    " - Parameters:  \n",
    "     - otherSeries or scalar value\n",
    "     - fill_valueNone or float value, default None (NaN)\n",
    "     - levelint or name\n",
    "     - Returns: series\n",
    "\n",
    "## Code Example\n",
    "```python\n",
    "a = pd.Series([1, 1, 1, np.nan], index=['a', 'b', 'c', 'd'])\n",
    "b = pd.Series([1, np.nan, 1, np.nan], index=['a', 'b', 'd', 'e'])\n",
    "a.ne(b, fill_value=0)\n",
    "```\n",
    "## Ouput and Explanation\n",
    "```\n",
    "a :\n",
    "\n",
    "a    1.0\n",
    "b    1.0\n",
    "c    1.0\n",
    "d    NaN\n",
    "```\n",
    "\n",
    "```\n",
    "b: \n",
    "\n",
    "a    1.0\n",
    "b    NaN\n",
    "d    1.0\n",
    "e    NaN\n",
    "```\n",
    "\n",
    "```\n",
    "a    False\n",
    "b     True\n",
    "c     True\n",
    "d     True\n",
    "e     True\n",
    "```\n",
    "The function tells the equivalence of corresponding elements in a and b, where the 'True' means 'not equal', and 'False' means 'equal'."
   ]
  }
 ],
 "metadata": {
  "kernelspec": {
   "display_name": "Python 3",
   "language": "python",
   "name": "python3"
  },
  "language_info": {
   "codemirror_mode": {
    "name": "ipython",
    "version": 3
   },
   "file_extension": ".py",
   "mimetype": "text/x-python",
   "name": "python",
   "nbconvert_exporter": "python",
   "pygments_lexer": "ipython3",
   "version": "3.8.8"
  }
 },
 "nbformat": 4,
 "nbformat_minor": 4
}
